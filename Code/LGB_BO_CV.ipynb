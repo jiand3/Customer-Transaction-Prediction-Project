{
  "nbformat": 4,
  "nbformat_minor": 0,
  "metadata": {
    "colab": {
      "name": "Copy of project.ipynb",
      "provenance": [],
      "collapsed_sections": [],
      "machine_shape": "hm"
    },
    "kernelspec": {
      "display_name": "Python 3",
      "name": "python3"
    },
    "language_info": {
      "name": "python"
    }
  },
  "cells": [
    {
      "cell_type": "code",
      "metadata": {
        "colab": {
          "base_uri": "https://localhost:8080/"
        },
        "id": "MtNqYZOSuZRe",
        "outputId": "115c62bd-cf2e-430a-de2c-7beffc984680"
      },
      "source": [
        "from google.colab import drive\n",
        "drive.mount('/content/gdrive')"
      ],
      "execution_count": 4,
      "outputs": [
        {
          "output_type": "stream",
          "text": [
            "Drive already mounted at /content/gdrive; to attempt to forcibly remount, call drive.mount(\"/content/gdrive\", force_remount=True).\n"
          ],
          "name": "stdout"
        }
      ]
    },
    {
      "cell_type": "code",
      "metadata": {
        "colab": {
          "base_uri": "https://localhost:8080/"
        },
        "id": "z_6afaYyvCRW",
        "outputId": "66a8c52d-6611-4c33-ab0b-45ccbf008586"
      },
      "source": [
        "%cd /content/gdrive/My Drive/Kaggle"
      ],
      "execution_count": 5,
      "outputs": [
        {
          "output_type": "stream",
          "text": [
            "/content/gdrive/My Drive/Kaggle\n"
          ],
          "name": "stdout"
        }
      ]
    },
    {
      "cell_type": "code",
      "metadata": {
        "colab": {
          "base_uri": "https://localhost:8080/"
        },
        "id": "0hdYsTVRvExe",
        "outputId": "5d7735a1-d311-4489-86df-a1608fc87fd5"
      },
      "source": [
        "!kaggle competitions download -c santander-customer-transaction-prediction"
      ],
      "execution_count": null,
      "outputs": [
        {
          "output_type": "stream",
          "text": [
            "Traceback (most recent call last):\n",
            "  File \"/usr/local/bin/kaggle\", line 5, in <module>\n",
            "    from kaggle.cli import main\n",
            "  File \"/usr/local/lib/python2.7/dist-packages/kaggle/__init__.py\", line 23, in <module>\n",
            "    api.authenticate()\n",
            "  File \"/usr/local/lib/python2.7/dist-packages/kaggle/api/kaggle_api_extended.py\", line 146, in authenticate\n",
            "    self.config_file, self.config_dir))\n",
            "IOError: Could not find kaggle.json. Make sure it's located in /content/gdrive/My Drive/Kaggle. Or use the environment method.\n"
          ],
          "name": "stdout"
        }
      ]
    },
    {
      "cell_type": "code",
      "metadata": {
        "colab": {
          "base_uri": "https://localhost:8080/"
        },
        "id": "I8oMH0bJvZXg",
        "outputId": "e1ba9262-98ab-4bb8-bca9-2a9d5e94bb6f"
      },
      "source": [
        "!unzip 'test.csv.zip'\n",
        "!unzip 'train.csv.zip'"
      ],
      "execution_count": null,
      "outputs": [
        {
          "output_type": "stream",
          "text": [
            "Archive:  test.csv.zip\n",
            "  inflating: test.csv                \n",
            "Archive:  train.csv.zip\n",
            "  inflating: train.csv               \n"
          ],
          "name": "stdout"
        }
      ]
    },
    {
      "cell_type": "code",
      "metadata": {
        "colab": {
          "base_uri": "https://localhost:8080/"
        },
        "id": "4gUSlEievdVe",
        "outputId": "0c74bc89-ef0c-41d8-ad0b-e91acae0baf9"
      },
      "source": [
        "import pandas as pd\n",
        "import numpy as np\n",
        "import warnings\n",
        "warnings.filterwarnings(\"ignore\")\n",
        "from sklearn.metrics import roc_auc_score\n",
        "import lightgbm as lgb\n",
        "from sklearn.model_selection import StratifiedKFold\n",
        "from scipy.stats import rankdata\n",
        "\n",
        "\n",
        "# TAKE FROM YAG320'S KERNEL\n",
        "# https://www.kaggle.com/yag320/list-of-fake-samples-and-public-private-lb-split\n",
        "\n",
        "\n",
        "# only testing data has fake data\n",
        "df_test = pd.read_csv('test.csv')\n",
        "df_test.drop(['ID_code'], axis=1, inplace=True)\n",
        "df_test = df_test.values\n",
        "\n",
        "unique_samples = []\n",
        "unique_count = np.zeros_like(df_test)\n",
        "for feature in range(df_test.shape[1]):\n",
        "    _, index_, count_ = np.unique(df_test[:, feature], return_counts=True, return_index=True)\n",
        "    unique_count[index_[count_ == 1], feature] += 1\n",
        "\n",
        "# Samples which have unique values are real the others are fake\n",
        "real_samples_indexes = np.argwhere(np.sum(unique_count, axis=1) > 0)[:, 0]\n",
        "synthetic_samples_indexes = np.argwhere(np.sum(unique_count, axis=1) == 0)[:, 0]\n",
        "\n",
        "print('Found',len(real_samples_indexes),'real test')\n",
        "print('Found',len(synthetic_samples_indexes),'fake test')\n",
        "\n",
        "\n",
        "d = {}\n",
        "for i in range(200): d['var_'+str(i)] = 'float32'\n",
        "d['target'] = 'uint8'\n",
        "d['ID_code'] = 'object'\n",
        "\n",
        "train = pd.read_csv('train.csv', dtype=d)\n",
        "test = pd.read_csv('test.csv', dtype=d)\n",
        "\n",
        "print('Loaded',len(train),'rows of train')\n",
        "print('Loaded',len(test),'rows of test')"
      ],
      "execution_count": 6,
      "outputs": [
        {
          "output_type": "stream",
          "text": [
            "Found 100000 real test\n",
            "Found 100000 fake test\n",
            "Loaded 200000 rows of train\n",
            "Loaded 200000 rows of test\n"
          ],
          "name": "stdout"
        }
      ]
    },
    {
      "cell_type": "code",
      "metadata": {
        "id": "r4Ih_qnwOpsG"
      },
      "source": [
        "# simple variance transform\n",
        "train_2 = pd.read_csv('train.csv')\n",
        "test_2 = pd.read_csv('test.csv')\n",
        "\n",
        "ids = np.arange(test_2.shape[0])\n",
        "real_ids = list(set(ids) - set(synthetic_samples_indexes))\n",
        "real_test = test_2.iloc[real_ids]\n",
        "fake_test = test_2.iloc[synthetic_samples_indexes]\n",
        "real_test_id = real_test.ID_code\n",
        "features = [c for c in train_2.columns if c not in ['target', 'ID_code']]\n",
        "df = pd.concat([train_2,real_test], axis = 0)\n",
        "\n",
        "# FE\n",
        "for feat in features:\n",
        "    df[feat+'_var'] = df.groupby([feat])[feat].transform('var')\n",
        "    df[feat+'plus_'] = df[feat] + df[feat+'_var']\n",
        "    #df[feat+\"minus\"] = df[feat] - df[feat+'_var']\n",
        "    \n",
        "drop_features = [c for c in df.columns if '_var' in c]\n",
        "df.drop(drop_features, axis=1, inplace=True)\n",
        "\n"
      ],
      "execution_count": 7,
      "outputs": []
    },
    {
      "cell_type": "code",
      "metadata": {
        "colab": {
          "base_uri": "https://localhost:8080/"
        },
        "id": "FFqF8lFwPk1Q",
        "outputId": "e9861081-8ed2-4f24-f7d9-8119605cfffc"
      },
      "source": [
        "train = df.iloc[:train_2.shape[0]]\n",
        "real_test = df.iloc[train_2.shape[0]:]\n",
        "\n",
        "features = [c for c in train.columns if c not in ['ID_code', 'target']]\n",
        "target = train['target'] \n",
        "\n",
        "print(train.shape)\n",
        "print(real_test.shape)\n",
        "print(len(features))"
      ],
      "execution_count": 8,
      "outputs": [
        {
          "output_type": "stream",
          "text": [
            "(200000, 402)\n",
            "(100000, 402)\n",
            "400\n"
          ],
          "name": "stdout"
        }
      ]
    },
    {
      "cell_type": "code",
      "metadata": {
        "colab": {
          "base_uri": "https://localhost:8080/"
        },
        "id": "5WqJtID8GT0l",
        "outputId": "95d8625d-1b60-41cf-f5ca-b8d2bc3cde76"
      },
      "source": [
        "train['target'].value_counts()"
      ],
      "execution_count": null,
      "outputs": [
        {
          "output_type": "execute_result",
          "data": {
            "text/plain": [
              "0.0    179902\n",
              "1.0     20098\n",
              "Name: target, dtype: int64"
            ]
          },
          "metadata": {
            "tags": []
          },
          "execution_count": 6
        }
      ]
    },
    {
      "cell_type": "code",
      "metadata": {
        "id": "B1E1WtfEGbSy"
      },
      "source": [
        "bayesian_tr_index, bayesian_val_index  = list(StratifiedKFold(n_splits=2, shuffle=True, random_state=1).split(train, train['target'].values))[0]"
      ],
      "execution_count": 9,
      "outputs": []
    },
    {
      "cell_type": "code",
      "metadata": {
        "id": "Cf2phsVATmaT"
      },
      "source": [
        "# shuffle func\n",
        "def disarrange(a, axis=-1):\n",
        "    \"\"\"\n",
        "    Shuffle `a` in-place along the given axis.\n",
        "    Apply numpy.random.shuffle to the given axis of `a`.\n",
        "    Each one-dimensional slice is shuffled independently.\n",
        "    \"\"\"\n",
        "    b = a.swapaxes(axis, -1)\n",
        "    # Shuffle `b` in-place along the last axis.  `b` is a view of `a`,\n",
        "    # so `a` is shuffled in place, too.\n",
        "    shp = b.shape[:-1]\n",
        "    for ndx in np.ndindex(shp):\n",
        "        np.random.shuffle(b[ndx])\n",
        "    return\n",
        "\n",
        "def augment_fast2(x,y,t=2):\n",
        "    xs,xn = [],[]\n",
        "    for i in range(t):\n",
        "        mask = y>0\n",
        "        x1 = x[mask].copy()\n",
        "        disarrange(x1,axis=0)\n",
        "        xs.append(x1)\n",
        "\n",
        "    for i in range(t//2):\n",
        "        mask = y==0\n",
        "        x1 = x[mask].copy()\n",
        "        disarrange(x1,axis=0)\n",
        "        xn.append(x1)\n",
        "\n",
        "    xs = np.vstack(xs)\n",
        "    xn = np.vstack(xn)\n",
        "    ys = np.ones(xs.shape[0])\n",
        "    yn = np.zeros(xn.shape[0])\n",
        "    x = np.vstack([x,xs,xn])\n",
        "    y = np.concatenate([y,ys,yn])\n",
        "    return x,y"
      ],
      "execution_count": 10,
      "outputs": []
    },
    {
      "cell_type": "code",
      "metadata": {
        "id": "tejMGp-3HGpd"
      },
      "source": [
        "def LGB_bayesian(\n",
        "    num_leaves,  # int\n",
        "    min_data_in_leaf,  # int\n",
        "    learning_rate,\n",
        "    min_sum_hessian_in_leaf,    # int  \n",
        "    feature_fraction,\n",
        "    lambda_l1,\n",
        "    lambda_l2,\n",
        "    min_gain_to_split,\n",
        "    max_depth):\n",
        "    \n",
        "    # LightGBM expects next three parameters need to be integer. So we make them integer\n",
        "    num_leaves = int(num_leaves)\n",
        "    min_data_in_leaf = int(min_data_in_leaf)\n",
        "    max_depth = int(max_depth)\n",
        "\n",
        "    assert type(num_leaves) == int\n",
        "    assert type(min_data_in_leaf) == int\n",
        "    assert type(max_depth) == int\n",
        "\n",
        "    param = {\n",
        "        'num_leaves': num_leaves,\n",
        "        'max_bin': 63,\n",
        "        'min_data_in_leaf': min_data_in_leaf,\n",
        "        'learning_rate': learning_rate,\n",
        "        'min_sum_hessian_in_leaf': min_sum_hessian_in_leaf,\n",
        "        'bagging_fraction': 1.0,\n",
        "        'bagging_freq': 5,\n",
        "        'feature_fraction': feature_fraction,\n",
        "        'lambda_l1': lambda_l1,\n",
        "        'lambda_l2': lambda_l2,\n",
        "        'min_gain_to_split': min_gain_to_split,\n",
        "        'max_depth': max_depth,\n",
        "        'save_binary': True, \n",
        "        'seed': 1337,\n",
        "        'feature_fraction_seed': 1337,\n",
        "        'bagging_seed': 1337,\n",
        "        'drop_seed': 1337,\n",
        "        'data_random_seed': 1337,\n",
        "        'objective': 'binary',\n",
        "        'boosting_type': 'gbdt',\n",
        "        'verbose': 1,\n",
        "        'metric': 'auc',\n",
        "        'is_unbalance': True,\n",
        "        'boost_from_average': False,   \n",
        "\n",
        "    }    \n",
        "    \n",
        "    \n",
        "    xg_train = lgb.Dataset(train.iloc[bayesian_tr_index][features].values,\n",
        "                           label=train.iloc[bayesian_tr_index]['target'].values,\n",
        "                           feature_name=features,\n",
        "                           free_raw_data = False\n",
        "                           )\n",
        "    xg_valid = lgb.Dataset(train.iloc[bayesian_val_index][features].values,\n",
        "                           label=train.iloc[bayesian_val_index]['target'].values,\n",
        "                           feature_name=features,\n",
        "                           free_raw_data = False\n",
        "                           )   \n",
        "\n",
        "    num_round = 5000\n",
        "    clf = lgb.train(param, xg_train, num_round, valid_sets = [xg_valid], verbose_eval=250, early_stopping_rounds = 50)\n",
        "    \n",
        "    predictions = clf.predict(train.iloc[bayesian_val_index][features].values, num_iteration=clf.best_iteration)   \n",
        "    \n",
        "    score = metrics.roc_auc_score(train.iloc[bayesian_val_index]['target'].values, predictions)\n",
        "    \n",
        "    return score"
      ],
      "execution_count": 11,
      "outputs": []
    },
    {
      "cell_type": "code",
      "metadata": {
        "id": "CwiC8n8PHvwH"
      },
      "source": [
        "bounds_LGB = {\n",
        "    'num_leaves': (5, 20), \n",
        "    'min_data_in_leaf': (50, 100),  \n",
        "    'learning_rate': (0.01, 0.3),\n",
        "    'min_sum_hessian_in_leaf': (0.00001, 0.01),    \n",
        "    'feature_fraction': (0.05, 0.5),\n",
        "    'lambda_l1': (0, 5.0), \n",
        "    'lambda_l2': (0, 5.0), \n",
        "    'min_gain_to_split': (0, 1.0),\n",
        "    'max_depth':(-2,15),\n",
        "}"
      ],
      "execution_count": 12,
      "outputs": []
    },
    {
      "cell_type": "code",
      "metadata": {
        "id": "pYHxg_6ak3Um"
      },
      "source": [
        "!pip install bayesian-optimization\n",
        "!pip install scikit-optimize"
      ],
      "execution_count": null,
      "outputs": []
    },
    {
      "cell_type": "code",
      "metadata": {
        "colab": {
          "base_uri": "https://localhost:8080/"
        },
        "id": "jvt34HzDH00d",
        "outputId": "c06a5a25-36ec-4750-9414-8a516a19d208"
      },
      "source": [
        "from bayes_opt import BayesianOptimization\n",
        "import warnings\n",
        "from sklearn import metrics\n",
        "LGB_BO = BayesianOptimization(LGB_bayesian, bounds_LGB, random_state=13)\n",
        "\n",
        "init_points = 5\n",
        "n_iter = 5\n",
        "print('-' * 130)\n",
        "\n",
        "with warnings.catch_warnings():\n",
        "    warnings.filterwarnings('ignore')\n",
        "    LGB_BO.maximize(init_points=init_points, n_iter=n_iter, acq='ucb', xi=0.0, alpha=1e-6)"
      ],
      "execution_count": 16,
      "outputs": [
        {
          "output_type": "stream",
          "text": [
            "----------------------------------------------------------------------------------------------------------------------------------\n",
            "|   iter    |  target   | featur... | lambda_l1 | lambda_l2 | learni... | max_depth | min_da... | min_ga... | min_su... | num_le... |\n",
            "-------------------------------------------------------------------------------------------------------------------------------------\n",
            "Training until validation scores don't improve for 50 rounds.\n",
            "Early stopping, best iteration is:\n",
            "[185]\tvalid_0's auc: 0.901423\n",
            "| \u001b[0m 1       \u001b[0m | \u001b[0m 0.9014  \u001b[0m | \u001b[0m 0.4     \u001b[0m | \u001b[0m 1.188   \u001b[0m | \u001b[0m 4.121   \u001b[0m | \u001b[0m 0.2901  \u001b[0m | \u001b[0m 14.53   \u001b[0m | \u001b[0m 72.67   \u001b[0m | \u001b[0m 0.609   \u001b[0m | \u001b[0m 0.007758\u001b[0m | \u001b[0m 14.62   \u001b[0m |\n",
            "Training until validation scores don't improve for 50 rounds.\n",
            "[250]\tvalid_0's auc: 0.857904\n",
            "[500]\tvalid_0's auc: 0.884101\n",
            "[750]\tvalid_0's auc: 0.895732\n",
            "[1000]\tvalid_0's auc: 0.902479\n",
            "[1250]\tvalid_0's auc: 0.906664\n",
            "[1500]\tvalid_0's auc: 0.909439\n",
            "[1750]\tvalid_0's auc: 0.911096\n",
            "[2000]\tvalid_0's auc: 0.911983\n",
            "[2250]\tvalid_0's auc: 0.912426\n",
            "[2500]\tvalid_0's auc: 0.912608\n",
            "Early stopping, best iteration is:\n",
            "[2568]\tvalid_0's auc: 0.912643\n",
            "| \u001b[95m 2       \u001b[0m | \u001b[95m 0.9126  \u001b[0m | \u001b[95m 0.3749  \u001b[0m | \u001b[95m 0.1752  \u001b[0m | \u001b[95m 1.492   \u001b[0m | \u001b[95m 0.02697 \u001b[0m | \u001b[95m 12.57   \u001b[0m | \u001b[95m 68.64   \u001b[0m | \u001b[95m 0.6798  \u001b[0m | \u001b[95m 0.00257 \u001b[0m | \u001b[95m 10.21   \u001b[0m |\n",
            "Training until validation scores don't improve for 50 rounds.\n",
            "[250]\tvalid_0's auc: 0.873683\n",
            "[500]\tvalid_0's auc: 0.894142\n",
            "[750]\tvalid_0's auc: 0.903009\n",
            "[1000]\tvalid_0's auc: 0.907429\n",
            "[1250]\tvalid_0's auc: 0.910086\n",
            "[1500]\tvalid_0's auc: 0.911738\n",
            "[1750]\tvalid_0's auc: 0.912598\n",
            "[2000]\tvalid_0's auc: 0.913041\n",
            "[2250]\tvalid_0's auc: 0.91341\n",
            "Early stopping, best iteration is:\n",
            "[2269]\tvalid_0's auc: 0.913446\n",
            "| \u001b[95m 3       \u001b[0m | \u001b[95m 0.9134  \u001b[0m | \u001b[95m 0.05424 \u001b[0m | \u001b[95m 1.792   \u001b[0m | \u001b[95m 4.745   \u001b[0m | \u001b[95m 0.07319 \u001b[0m | \u001b[95m 3.43    \u001b[0m | \u001b[95m 95.89   \u001b[0m | \u001b[95m 0.0319  \u001b[0m | \u001b[95m 0.000660\u001b[0m | \u001b[95m 14.45   \u001b[0m |\n",
            "Training until validation scores don't improve for 50 rounds.\n",
            "[250]\tvalid_0's auc: 0.900025\n",
            "Early stopping, best iteration is:\n",
            "[213]\tvalid_0's auc: 0.900855\n",
            "| \u001b[0m 4       \u001b[0m | \u001b[0m 0.9009  \u001b[0m | \u001b[0m 0.4432  \u001b[0m | \u001b[0m 0.04358 \u001b[0m | \u001b[0m 3.733   \u001b[0m | \u001b[0m 0.2457  \u001b[0m | \u001b[0m-0.7128  \u001b[0m | \u001b[0m 82.82   \u001b[0m | \u001b[0m 0.5093  \u001b[0m | \u001b[0m 0.004804\u001b[0m | \u001b[0m 19.33   \u001b[0m |\n",
            "Training until validation scores don't improve for 50 rounds.\n",
            "[250]\tvalid_0's auc: 0.871973\n",
            "[500]\tvalid_0's auc: 0.893003\n",
            "[750]\tvalid_0's auc: 0.902568\n",
            "[1000]\tvalid_0's auc: 0.907297\n",
            "[1250]\tvalid_0's auc: 0.910229\n",
            "[1500]\tvalid_0's auc: 0.911797\n",
            "[1750]\tvalid_0's auc: 0.91294\n",
            "Early stopping, best iteration is:\n",
            "[1802]\tvalid_0's auc: 0.913328\n",
            "| \u001b[0m 5       \u001b[0m | \u001b[0m 0.9133  \u001b[0m | \u001b[0m 0.05001 \u001b[0m | \u001b[0m 1.235   \u001b[0m | \u001b[0m 3.561   \u001b[0m | \u001b[0m 0.1041  \u001b[0m | \u001b[0m 2.709   \u001b[0m | \u001b[0m 84.77   \u001b[0m | \u001b[0m 0.9186  \u001b[0m | \u001b[0m 0.002452\u001b[0m | \u001b[0m 11.87   \u001b[0m |\n",
            "Training until validation scores don't improve for 50 rounds.\n",
            "[250]\tvalid_0's auc: 0.865311\n",
            "[500]\tvalid_0's auc: 0.889443\n",
            "[750]\tvalid_0's auc: 0.899858\n",
            "[1000]\tvalid_0's auc: 0.905701\n",
            "[1250]\tvalid_0's auc: 0.908958\n",
            "[1500]\tvalid_0's auc: 0.911275\n",
            "[1750]\tvalid_0's auc: 0.912358\n",
            "[2000]\tvalid_0's auc: 0.91288\n",
            "[2250]\tvalid_0's auc: 0.913336\n",
            "Early stopping, best iteration is:\n",
            "[2253]\tvalid_0's auc: 0.913349\n",
            "| \u001b[0m 6       \u001b[0m | \u001b[0m 0.9133  \u001b[0m | \u001b[0m 0.2007  \u001b[0m | \u001b[0m 1.168   \u001b[0m | \u001b[0m 0.1712  \u001b[0m | \u001b[0m 0.05487 \u001b[0m | \u001b[0m 13.54   \u001b[0m | \u001b[0m 97.86   \u001b[0m | \u001b[0m 0.1103  \u001b[0m | \u001b[0m 0.003182\u001b[0m | \u001b[0m 5.885   \u001b[0m |\n",
            "Training until validation scores don't improve for 50 rounds.\n",
            "[250]\tvalid_0's auc: 0.871236\n",
            "[500]\tvalid_0's auc: 0.892625\n",
            "[750]\tvalid_0's auc: 0.901564\n",
            "[1000]\tvalid_0's auc: 0.906255\n",
            "[1250]\tvalid_0's auc: 0.909409\n",
            "[1500]\tvalid_0's auc: 0.911\n",
            "[1750]\tvalid_0's auc: 0.912184\n",
            "[2000]\tvalid_0's auc: 0.912826\n",
            "[2250]\tvalid_0's auc: 0.913242\n",
            "[2500]\tvalid_0's auc: 0.913469\n",
            "Early stopping, best iteration is:\n",
            "[2565]\tvalid_0's auc: 0.913556\n",
            "| \u001b[95m 7       \u001b[0m | \u001b[95m 0.9136  \u001b[0m | \u001b[95m 0.273   \u001b[0m | \u001b[95m 4.963   \u001b[0m | \u001b[95m 4.973   \u001b[0m | \u001b[95m 0.1029  \u001b[0m | \u001b[95m 2.062   \u001b[0m | \u001b[95m 50.2    \u001b[0m | \u001b[95m 0.01737 \u001b[0m | \u001b[95m 0.000459\u001b[0m | \u001b[95m 5.542   \u001b[0m |\n",
            "Training until validation scores don't improve for 50 rounds.\n",
            "[250]\tvalid_0's auc: 0.802197\n",
            "[500]\tvalid_0's auc: 0.840216\n",
            "[750]\tvalid_0's auc: 0.858196\n",
            "[1000]\tvalid_0's auc: 0.869526\n",
            "[1250]\tvalid_0's auc: 0.877971\n",
            "[1500]\tvalid_0's auc: 0.883906\n",
            "[1750]\tvalid_0's auc: 0.888833\n",
            "[2000]\tvalid_0's auc: 0.892642\n",
            "[2250]\tvalid_0's auc: 0.895707\n",
            "[2500]\tvalid_0's auc: 0.898287\n",
            "[2750]\tvalid_0's auc: 0.90053\n",
            "[3000]\tvalid_0's auc: 0.902295\n",
            "[3250]\tvalid_0's auc: 0.903786\n",
            "[3500]\tvalid_0's auc: 0.905242\n",
            "[3750]\tvalid_0's auc: 0.906478\n",
            "[4000]\tvalid_0's auc: 0.907489\n",
            "[4250]\tvalid_0's auc: 0.908411\n",
            "[4500]\tvalid_0's auc: 0.909249\n",
            "[4750]\tvalid_0's auc: 0.909913\n",
            "[5000]\tvalid_0's auc: 0.910555\n",
            "Did not meet early stopping. Best iteration is:\n",
            "[5000]\tvalid_0's auc: 0.910555\n",
            "| \u001b[0m 8       \u001b[0m | \u001b[0m 0.9106  \u001b[0m | \u001b[0m 0.2996  \u001b[0m | \u001b[0m 0.4712  \u001b[0m | \u001b[0m 4.856   \u001b[0m | \u001b[0m 0.01533 \u001b[0m | \u001b[0m-0.658   \u001b[0m | \u001b[0m 86.89   \u001b[0m | \u001b[0m 0.1324  \u001b[0m | \u001b[0m 0.008643\u001b[0m | \u001b[0m 5.026   \u001b[0m |\n",
            "Training until validation scores don't improve for 50 rounds.\n",
            "[250]\tvalid_0's auc: 0.901469\n",
            "[500]\tvalid_0's auc: 0.909662\n",
            "Early stopping, best iteration is:\n",
            "[620]\tvalid_0's auc: 0.910262\n",
            "| \u001b[0m 9       \u001b[0m | \u001b[0m 0.9103  \u001b[0m | \u001b[0m 0.1101  \u001b[0m | \u001b[0m 4.81    \u001b[0m | \u001b[0m 0.6658  \u001b[0m | \u001b[0m 0.1695  \u001b[0m | \u001b[0m-1.295   \u001b[0m | \u001b[0m 97.86   \u001b[0m | \u001b[0m 0.254   \u001b[0m | \u001b[0m 0.004989\u001b[0m | \u001b[0m 7.802   \u001b[0m |\n",
            "Training until validation scores don't improve for 50 rounds.\n",
            "[250]\tvalid_0's auc: 0.906061\n",
            "Early stopping, best iteration is:\n",
            "[330]\tvalid_0's auc: 0.907792\n",
            "| \u001b[0m 10      \u001b[0m | \u001b[0m 0.9078  \u001b[0m | \u001b[0m 0.1514  \u001b[0m | \u001b[0m 0.1197  \u001b[0m | \u001b[0m 1.065   \u001b[0m | \u001b[0m 0.2707  \u001b[0m | \u001b[0m 12.75   \u001b[0m | \u001b[0m 51.29   \u001b[0m | \u001b[0m 0.8746  \u001b[0m | \u001b[0m 0.004374\u001b[0m | \u001b[0m 7.495   \u001b[0m |\n",
            "=====================================================================================================================================\n"
          ],
          "name": "stdout"
        }
      ]
    },
    {
      "cell_type": "code",
      "metadata": {
        "id": "Ktwbb79zIxZ_"
      },
      "source": [
        "param_lgb = {\n",
        "        'num_leaves': int(LGB_BO.max['params']['num_leaves']), # remember to int here\n",
        "        'max_bin': 63,\n",
        "        'min_data_in_leaf': int(LGB_BO.max['params']['min_data_in_leaf']), # remember to int here\n",
        "        'learning_rate': LGB_BO.max['params']['learning_rate'],\n",
        "        'min_sum_hessian_in_leaf': LGB_BO.max['params']['min_sum_hessian_in_leaf'],\n",
        "        'bagging_fraction': 1.0, \n",
        "        'bagging_freq': 5, \n",
        "        'feature_fraction': LGB_BO.max['params']['feature_fraction'],\n",
        "        'lambda_l1': LGB_BO.max['params']['lambda_l1'],\n",
        "        'lambda_l2': LGB_BO.max['params']['lambda_l2'],\n",
        "        'min_gain_to_split': LGB_BO.max['params']['min_gain_to_split'],\n",
        "        'max_depth': int(LGB_BO.max['params']['max_depth']), # remember to int here\n",
        "        'save_binary': True,\n",
        "        'seed': 1337,\n",
        "        'feature_fraction_seed': 1337,\n",
        "        'bagging_seed': 1337,\n",
        "        'drop_seed': 1337,\n",
        "        'data_random_seed': 1337,\n",
        "        'objective': 'binary',\n",
        "        'boosting_type': 'gbdt',\n",
        "        'verbose': 1,\n",
        "        'metric': 'auc',\n",
        "        'is_unbalance': True,\n",
        "        'boost_from_average': False,\n",
        "    }"
      ],
      "execution_count": 18,
      "outputs": []
    },
    {
      "cell_type": "code",
      "metadata": {
        "colab": {
          "base_uri": "https://localhost:8080/"
        },
        "id": "2hWDajKaknca",
        "outputId": "4d501e2e-cea9-4cb0-8dfc-76c36146aeb7"
      },
      "source": [
        "param_lgb"
      ],
      "execution_count": 19,
      "outputs": [
        {
          "output_type": "execute_result",
          "data": {
            "text/plain": [
              "{'bagging_fraction': 1.0,\n",
              " 'bagging_freq': 5,\n",
              " 'bagging_seed': 1337,\n",
              " 'boost_from_average': False,\n",
              " 'boosting_type': 'gbdt',\n",
              " 'data_random_seed': 1337,\n",
              " 'drop_seed': 1337,\n",
              " 'feature_fraction': 0.2730194592821652,\n",
              " 'feature_fraction_seed': 1337,\n",
              " 'is_unbalance': True,\n",
              " 'lambda_l1': 4.9628108570303056,\n",
              " 'lambda_l2': 4.973461314202421,\n",
              " 'learning_rate': 0.10294164271466658,\n",
              " 'max_bin': 63,\n",
              " 'max_depth': 2,\n",
              " 'metric': 'auc',\n",
              " 'min_data_in_leaf': 50,\n",
              " 'min_gain_to_split': 0.017368427739412384,\n",
              " 'min_sum_hessian_in_leaf': 0.0004595933246590828,\n",
              " 'num_leaves': 5,\n",
              " 'objective': 'binary',\n",
              " 'save_binary': True,\n",
              " 'seed': 1337,\n",
              " 'verbose': 1}"
            ]
          },
          "metadata": {
            "tags": []
          },
          "execution_count": 19
        }
      ]
    },
    {
      "cell_type": "code",
      "metadata": {
        "colab": {
          "base_uri": "https://localhost:8080/"
        },
        "id": "twEQ48e4I1p5",
        "outputId": "0be1cdc8-5866-415f-82f7-3d09dc6396f1"
      },
      "source": [
        "# LGB with CV\n",
        "skf = StratifiedKFold(n_splits=5, shuffle=True, random_state=42)\n",
        "oof = train[['ID_code', 'target']]\n",
        "oof['predict'] = 0\n",
        "predictions = real_test[['ID_code']]\n",
        "val_aucs = []\n",
        "feature_importance_df = pd.DataFrame()\n",
        "features = [col for col in train.columns if col not in ['target', 'ID_code']]\n",
        "X_test = real_test[features].values\n",
        "for fold, (trn_idx, val_idx) in enumerate(skf.split(train, train['target'])):\n",
        "    X_train, y_train = train.iloc[trn_idx][features], train.iloc[trn_idx]['target']\n",
        "    X_valid, y_valid = train.iloc[val_idx][features], train.iloc[val_idx]['target']\n",
        "    \n",
        "    N = 5\n",
        "    p_valid,yp = 0,0\n",
        "    for i in range(N):\n",
        "        X_t, y_t = augment_fast2(X_train.values, y_train.values)\n",
        "        X_t = pd.DataFrame(X_t)\n",
        "        X_t = X_t.add_prefix('var_')\n",
        "    \n",
        "        trn_data = lgb.Dataset(X_t, label=y_t)\n",
        "        val_data = lgb.Dataset(X_valid, label=y_valid)\n",
        "        evals_result = {}\n",
        "        lgb_clf = lgb.train(param_lgb,\n",
        "                        trn_data,\n",
        "                        100000,\n",
        "                        valid_sets = [trn_data, val_data],\n",
        "                        early_stopping_rounds=3000,\n",
        "                        verbose_eval = 1000,\n",
        "                        evals_result=evals_result\n",
        "                       )\n",
        "        p_valid += lgb_clf.predict(X_valid)\n",
        "        yp += lgb_clf.predict(X_test)\n",
        "    fold_importance_df = pd.DataFrame()\n",
        "    fold_importance_df[\"feature\"] = features\n",
        "    fold_importance_df[\"importance\"] = lgb_clf.feature_importance()\n",
        "    fold_importance_df[\"fold\"] = fold + 1\n",
        "    feature_importance_df = pd.concat([feature_importance_df, fold_importance_df], axis=0)\n",
        "    oof['predict'][val_idx] = p_valid/N\n",
        "    val_score = roc_auc_score(y_valid, p_valid)\n",
        "    val_aucs.append(val_score)\n",
        "    \n",
        "    predictions['fold{}'.format(fold+1)] = yp/N"
      ],
      "execution_count": 21,
      "outputs": [
        {
          "output_type": "stream",
          "text": [
            "Training until validation scores don't improve for 3000 rounds.\n",
            "[1000]\ttraining's auc: 0.94934\tvalid_1's auc: 0.907805\n",
            "[2000]\ttraining's auc: 0.960309\tvalid_1's auc: 0.917708\n",
            "[3000]\ttraining's auc: 0.964828\tvalid_1's auc: 0.920255\n",
            "[4000]\ttraining's auc: 0.967718\tvalid_1's auc: 0.921028\n",
            "[5000]\ttraining's auc: 0.970002\tvalid_1's auc: 0.921131\n",
            "[6000]\ttraining's auc: 0.972014\tvalid_1's auc: 0.921084\n",
            "[7000]\ttraining's auc: 0.973916\tvalid_1's auc: 0.920783\n",
            "Early stopping, best iteration is:\n",
            "[4843]\ttraining's auc: 0.969673\tvalid_1's auc: 0.9212\n",
            "Training until validation scores don't improve for 3000 rounds.\n",
            "[1000]\ttraining's auc: 0.949298\tvalid_1's auc: 0.90814\n",
            "[2000]\ttraining's auc: 0.960106\tvalid_1's auc: 0.917409\n",
            "[3000]\ttraining's auc: 0.964665\tvalid_1's auc: 0.919736\n",
            "[4000]\ttraining's auc: 0.96754\tvalid_1's auc: 0.920322\n",
            "[5000]\ttraining's auc: 0.969847\tvalid_1's auc: 0.920418\n",
            "[6000]\ttraining's auc: 0.971908\tvalid_1's auc: 0.920196\n",
            "[7000]\ttraining's auc: 0.973814\tvalid_1's auc: 0.92001\n",
            "[8000]\ttraining's auc: 0.975671\tvalid_1's auc: 0.919862\n",
            "Early stopping, best iteration is:\n",
            "[5184]\ttraining's auc: 0.970232\tvalid_1's auc: 0.920499\n",
            "Training until validation scores don't improve for 3000 rounds.\n",
            "[1000]\ttraining's auc: 0.949377\tvalid_1's auc: 0.908367\n",
            "[2000]\ttraining's auc: 0.960217\tvalid_1's auc: 0.917212\n",
            "[3000]\ttraining's auc: 0.964795\tvalid_1's auc: 0.919746\n",
            "[4000]\ttraining's auc: 0.967733\tvalid_1's auc: 0.920507\n",
            "[5000]\ttraining's auc: 0.970035\tvalid_1's auc: 0.920689\n",
            "[6000]\ttraining's auc: 0.97213\tvalid_1's auc: 0.920566\n",
            "[7000]\ttraining's auc: 0.974042\tvalid_1's auc: 0.920246\n",
            "[8000]\ttraining's auc: 0.97582\tvalid_1's auc: 0.920055\n",
            "Early stopping, best iteration is:\n",
            "[5458]\ttraining's auc: 0.970999\tvalid_1's auc: 0.920773\n",
            "Training until validation scores don't improve for 3000 rounds.\n",
            "[1000]\ttraining's auc: 0.949325\tvalid_1's auc: 0.907611\n",
            "[2000]\ttraining's auc: 0.960047\tvalid_1's auc: 0.917353\n",
            "[3000]\ttraining's auc: 0.964633\tvalid_1's auc: 0.919751\n",
            "[4000]\ttraining's auc: 0.967504\tvalid_1's auc: 0.920519\n",
            "[5000]\ttraining's auc: 0.969784\tvalid_1's auc: 0.920933\n",
            "[6000]\ttraining's auc: 0.971839\tvalid_1's auc: 0.920804\n",
            "[7000]\ttraining's auc: 0.973784\tvalid_1's auc: 0.920548\n",
            "Early stopping, best iteration is:\n",
            "[4878]\ttraining's auc: 0.969515\tvalid_1's auc: 0.920953\n",
            "Training until validation scores don't improve for 3000 rounds.\n",
            "[1000]\ttraining's auc: 0.949357\tvalid_1's auc: 0.907383\n",
            "[2000]\ttraining's auc: 0.960273\tvalid_1's auc: 0.916452\n",
            "[3000]\ttraining's auc: 0.964816\tvalid_1's auc: 0.919101\n",
            "[4000]\ttraining's auc: 0.967732\tvalid_1's auc: 0.919834\n",
            "[5000]\ttraining's auc: 0.970074\tvalid_1's auc: 0.920062\n",
            "[6000]\ttraining's auc: 0.972166\tvalid_1's auc: 0.920138\n",
            "[7000]\ttraining's auc: 0.974062\tvalid_1's auc: 0.919982\n",
            "[8000]\ttraining's auc: 0.97587\tvalid_1's auc: 0.919816\n",
            "Early stopping, best iteration is:\n",
            "[5720]\ttraining's auc: 0.971617\tvalid_1's auc: 0.920247\n",
            "Training until validation scores don't improve for 3000 rounds.\n",
            "[1000]\ttraining's auc: 0.949479\tvalid_1's auc: 0.908416\n",
            "[2000]\ttraining's auc: 0.960415\tvalid_1's auc: 0.917024\n",
            "[3000]\ttraining's auc: 0.964955\tvalid_1's auc: 0.919495\n",
            "[4000]\ttraining's auc: 0.967797\tvalid_1's auc: 0.920385\n",
            "[5000]\ttraining's auc: 0.970055\tvalid_1's auc: 0.920448\n",
            "[6000]\ttraining's auc: 0.972075\tvalid_1's auc: 0.920271\n",
            "[7000]\ttraining's auc: 0.973973\tvalid_1's auc: 0.920151\n",
            "Early stopping, best iteration is:\n",
            "[4504]\ttraining's auc: 0.968981\tvalid_1's auc: 0.920598\n",
            "Training until validation scores don't improve for 3000 rounds.\n",
            "[1000]\ttraining's auc: 0.949807\tvalid_1's auc: 0.908582\n",
            "[2000]\ttraining's auc: 0.960675\tvalid_1's auc: 0.917378\n",
            "[3000]\ttraining's auc: 0.965151\tvalid_1's auc: 0.919649\n",
            "[4000]\ttraining's auc: 0.967986\tvalid_1's auc: 0.920367\n",
            "[5000]\ttraining's auc: 0.970275\tvalid_1's auc: 0.92042\n",
            "[6000]\ttraining's auc: 0.972286\tvalid_1's auc: 0.920157\n",
            "[7000]\ttraining's auc: 0.974178\tvalid_1's auc: 0.920016\n",
            "Early stopping, best iteration is:\n",
            "[4666]\ttraining's auc: 0.969548\tvalid_1's auc: 0.920518\n",
            "Training until validation scores don't improve for 3000 rounds.\n",
            "[1000]\ttraining's auc: 0.949474\tvalid_1's auc: 0.908535\n",
            "[2000]\ttraining's auc: 0.960426\tvalid_1's auc: 0.917273\n",
            "[3000]\ttraining's auc: 0.964949\tvalid_1's auc: 0.919492\n",
            "[4000]\ttraining's auc: 0.96782\tvalid_1's auc: 0.920276\n",
            "[5000]\ttraining's auc: 0.970088\tvalid_1's auc: 0.920339\n",
            "[6000]\ttraining's auc: 0.972111\tvalid_1's auc: 0.920429\n",
            "[7000]\ttraining's auc: 0.974032\tvalid_1's auc: 0.920215\n",
            "[8000]\ttraining's auc: 0.975878\tvalid_1's auc: 0.919985\n",
            "Early stopping, best iteration is:\n",
            "[5986]\ttraining's auc: 0.972079\tvalid_1's auc: 0.920462\n",
            "Training until validation scores don't improve for 3000 rounds.\n",
            "[1000]\ttraining's auc: 0.949483\tvalid_1's auc: 0.908446\n",
            "[2000]\ttraining's auc: 0.960398\tvalid_1's auc: 0.917222\n",
            "[3000]\ttraining's auc: 0.964861\tvalid_1's auc: 0.919377\n",
            "[4000]\ttraining's auc: 0.96776\tvalid_1's auc: 0.920215\n",
            "[5000]\ttraining's auc: 0.97003\tvalid_1's auc: 0.92042\n",
            "[6000]\ttraining's auc: 0.972065\tvalid_1's auc: 0.92029\n",
            "[7000]\ttraining's auc: 0.973958\tvalid_1's auc: 0.920196\n",
            "Early stopping, best iteration is:\n",
            "[4959]\ttraining's auc: 0.969942\tvalid_1's auc: 0.920455\n",
            "Training until validation scores don't improve for 3000 rounds.\n",
            "[1000]\ttraining's auc: 0.949025\tvalid_1's auc: 0.909175\n",
            "[2000]\ttraining's auc: 0.960154\tvalid_1's auc: 0.917957\n",
            "[3000]\ttraining's auc: 0.964647\tvalid_1's auc: 0.920256\n",
            "[4000]\ttraining's auc: 0.96751\tvalid_1's auc: 0.920795\n",
            "[5000]\ttraining's auc: 0.969827\tvalid_1's auc: 0.920763\n",
            "[6000]\ttraining's auc: 0.971887\tvalid_1's auc: 0.920562\n",
            "[7000]\ttraining's auc: 0.973797\tvalid_1's auc: 0.920447\n",
            "Early stopping, best iteration is:\n",
            "[4072]\ttraining's auc: 0.967702\tvalid_1's auc: 0.920884\n",
            "Training until validation scores don't improve for 3000 rounds.\n",
            "[1000]\ttraining's auc: 0.950161\tvalid_1's auc: 0.901614\n",
            "[2000]\ttraining's auc: 0.960893\tvalid_1's auc: 0.911073\n",
            "[3000]\ttraining's auc: 0.965347\tvalid_1's auc: 0.913899\n",
            "[4000]\ttraining's auc: 0.968208\tvalid_1's auc: 0.914833\n",
            "[5000]\ttraining's auc: 0.97043\tvalid_1's auc: 0.915235\n",
            "[6000]\ttraining's auc: 0.972481\tvalid_1's auc: 0.915079\n",
            "[7000]\ttraining's auc: 0.974365\tvalid_1's auc: 0.915098\n",
            "Early stopping, best iteration is:\n",
            "[4995]\ttraining's auc: 0.97042\tvalid_1's auc: 0.915256\n",
            "Training until validation scores don't improve for 3000 rounds.\n",
            "[1000]\ttraining's auc: 0.950094\tvalid_1's auc: 0.901025\n",
            "[2000]\ttraining's auc: 0.961004\tvalid_1's auc: 0.910747\n",
            "[3000]\ttraining's auc: 0.965425\tvalid_1's auc: 0.913633\n",
            "[4000]\ttraining's auc: 0.968337\tvalid_1's auc: 0.914549\n",
            "[5000]\ttraining's auc: 0.970556\tvalid_1's auc: 0.915068\n",
            "[6000]\ttraining's auc: 0.972585\tvalid_1's auc: 0.915253\n",
            "[7000]\ttraining's auc: 0.97447\tvalid_1's auc: 0.915206\n",
            "[8000]\ttraining's auc: 0.976273\tvalid_1's auc: 0.915074\n",
            "[9000]\ttraining's auc: 0.977956\tvalid_1's auc: 0.914857\n",
            "Early stopping, best iteration is:\n",
            "[6758]\ttraining's auc: 0.974027\tvalid_1's auc: 0.915293\n",
            "Training until validation scores don't improve for 3000 rounds.\n",
            "[1000]\ttraining's auc: 0.950125\tvalid_1's auc: 0.901089\n",
            "[2000]\ttraining's auc: 0.960919\tvalid_1's auc: 0.910542\n",
            "[3000]\ttraining's auc: 0.965446\tvalid_1's auc: 0.913311\n",
            "[4000]\ttraining's auc: 0.96829\tvalid_1's auc: 0.914387\n",
            "[5000]\ttraining's auc: 0.970586\tvalid_1's auc: 0.914936\n",
            "[6000]\ttraining's auc: 0.972599\tvalid_1's auc: 0.914921\n",
            "[7000]\ttraining's auc: 0.97447\tvalid_1's auc: 0.914791\n",
            "[8000]\ttraining's auc: 0.976269\tvalid_1's auc: 0.914463\n",
            "Early stopping, best iteration is:\n",
            "[5598]\ttraining's auc: 0.971799\tvalid_1's auc: 0.915024\n",
            "Training until validation scores don't improve for 3000 rounds.\n",
            "[1000]\ttraining's auc: 0.950305\tvalid_1's auc: 0.901818\n",
            "[2000]\ttraining's auc: 0.960987\tvalid_1's auc: 0.911107\n",
            "[3000]\ttraining's auc: 0.965422\tvalid_1's auc: 0.913795\n",
            "[4000]\ttraining's auc: 0.968257\tvalid_1's auc: 0.914573\n",
            "[5000]\ttraining's auc: 0.970542\tvalid_1's auc: 0.914785\n",
            "[6000]\ttraining's auc: 0.972546\tvalid_1's auc: 0.91481\n",
            "[7000]\ttraining's auc: 0.974444\tvalid_1's auc: 0.914749\n",
            "[8000]\ttraining's auc: 0.976205\tvalid_1's auc: 0.914702\n",
            "Early stopping, best iteration is:\n",
            "[5218]\ttraining's auc: 0.971013\tvalid_1's auc: 0.914871\n",
            "Training until validation scores don't improve for 3000 rounds.\n",
            "[1000]\ttraining's auc: 0.950103\tvalid_1's auc: 0.901583\n",
            "[2000]\ttraining's auc: 0.960874\tvalid_1's auc: 0.910765\n",
            "[3000]\ttraining's auc: 0.965357\tvalid_1's auc: 0.913475\n",
            "[4000]\ttraining's auc: 0.968237\tvalid_1's auc: 0.91443\n",
            "[5000]\ttraining's auc: 0.970472\tvalid_1's auc: 0.914799\n",
            "[6000]\ttraining's auc: 0.972463\tvalid_1's auc: 0.914873\n",
            "[7000]\ttraining's auc: 0.974384\tvalid_1's auc: 0.914836\n",
            "[8000]\ttraining's auc: 0.976169\tvalid_1's auc: 0.914527\n",
            "[9000]\ttraining's auc: 0.97786\tvalid_1's auc: 0.914283\n",
            "Early stopping, best iteration is:\n",
            "[6068]\ttraining's auc: 0.972601\tvalid_1's auc: 0.914887\n",
            "Training until validation scores don't improve for 3000 rounds.\n",
            "[1000]\ttraining's auc: 0.949075\tvalid_1's auc: 0.907981\n",
            "[2000]\ttraining's auc: 0.959979\tvalid_1's auc: 0.916394\n",
            "[3000]\ttraining's auc: 0.964496\tvalid_1's auc: 0.91888\n",
            "[4000]\ttraining's auc: 0.967353\tvalid_1's auc: 0.91956\n",
            "[5000]\ttraining's auc: 0.969663\tvalid_1's auc: 0.919568\n",
            "[6000]\ttraining's auc: 0.971729\tvalid_1's auc: 0.919494\n",
            "[7000]\ttraining's auc: 0.973683\tvalid_1's auc: 0.919164\n",
            "Early stopping, best iteration is:\n",
            "[4863]\ttraining's auc: 0.969346\tvalid_1's auc: 0.919647\n",
            "Training until validation scores don't improve for 3000 rounds.\n",
            "[1000]\ttraining's auc: 0.949385\tvalid_1's auc: 0.90758\n",
            "[2000]\ttraining's auc: 0.960504\tvalid_1's auc: 0.916427\n",
            "[3000]\ttraining's auc: 0.964979\tvalid_1's auc: 0.918514\n",
            "[4000]\ttraining's auc: 0.967862\tvalid_1's auc: 0.919359\n",
            "[5000]\ttraining's auc: 0.970137\tvalid_1's auc: 0.919557\n",
            "[6000]\ttraining's auc: 0.972194\tvalid_1's auc: 0.919651\n",
            "[7000]\ttraining's auc: 0.974109\tvalid_1's auc: 0.919447\n",
            "[8000]\ttraining's auc: 0.975905\tvalid_1's auc: 0.919325\n",
            "Early stopping, best iteration is:\n",
            "[5533]\ttraining's auc: 0.971275\tvalid_1's auc: 0.919696\n",
            "Training until validation scores don't improve for 3000 rounds.\n",
            "[1000]\ttraining's auc: 0.949427\tvalid_1's auc: 0.907022\n",
            "[2000]\ttraining's auc: 0.960485\tvalid_1's auc: 0.915671\n",
            "[3000]\ttraining's auc: 0.964981\tvalid_1's auc: 0.918352\n",
            "[4000]\ttraining's auc: 0.967803\tvalid_1's auc: 0.918988\n",
            "[5000]\ttraining's auc: 0.970081\tvalid_1's auc: 0.919281\n",
            "[6000]\ttraining's auc: 0.972101\tvalid_1's auc: 0.919366\n",
            "[7000]\ttraining's auc: 0.974053\tvalid_1's auc: 0.919199\n",
            "[8000]\ttraining's auc: 0.975854\tvalid_1's auc: 0.918909\n",
            "Early stopping, best iteration is:\n",
            "[5776]\ttraining's auc: 0.971658\tvalid_1's auc: 0.91944\n",
            "Training until validation scores don't improve for 3000 rounds.\n",
            "[1000]\ttraining's auc: 0.948978\tvalid_1's auc: 0.907214\n",
            "[2000]\ttraining's auc: 0.959879\tvalid_1's auc: 0.916265\n",
            "[3000]\ttraining's auc: 0.964485\tvalid_1's auc: 0.918901\n",
            "[4000]\ttraining's auc: 0.967411\tvalid_1's auc: 0.919661\n",
            "[5000]\ttraining's auc: 0.969693\tvalid_1's auc: 0.919811\n",
            "[6000]\ttraining's auc: 0.971797\tvalid_1's auc: 0.919796\n",
            "[7000]\ttraining's auc: 0.97374\tvalid_1's auc: 0.919539\n",
            "[8000]\ttraining's auc: 0.975595\tvalid_1's auc: 0.919312\n",
            "Early stopping, best iteration is:\n",
            "[5510]\ttraining's auc: 0.970794\tvalid_1's auc: 0.919984\n",
            "Training until validation scores don't improve for 3000 rounds.\n",
            "[1000]\ttraining's auc: 0.949659\tvalid_1's auc: 0.907968\n",
            "[2000]\ttraining's auc: 0.960462\tvalid_1's auc: 0.916352\n",
            "[3000]\ttraining's auc: 0.964987\tvalid_1's auc: 0.918796\n",
            "[4000]\ttraining's auc: 0.967859\tvalid_1's auc: 0.919701\n",
            "[5000]\ttraining's auc: 0.970165\tvalid_1's auc: 0.919835\n",
            "[6000]\ttraining's auc: 0.972202\tvalid_1's auc: 0.919769\n",
            "[7000]\ttraining's auc: 0.974122\tvalid_1's auc: 0.919665\n",
            "[8000]\ttraining's auc: 0.975905\tvalid_1's auc: 0.919338\n",
            "Early stopping, best iteration is:\n",
            "[5814]\ttraining's auc: 0.971837\tvalid_1's auc: 0.919872\n",
            "Training until validation scores don't improve for 3000 rounds.\n",
            "[1000]\ttraining's auc: 0.949673\tvalid_1's auc: 0.910154\n",
            "[2000]\ttraining's auc: 0.96045\tvalid_1's auc: 0.919004\n",
            "[3000]\ttraining's auc: 0.964985\tvalid_1's auc: 0.921352\n",
            "[4000]\ttraining's auc: 0.967874\tvalid_1's auc: 0.922114\n",
            "[5000]\ttraining's auc: 0.970137\tvalid_1's auc: 0.922358\n",
            "[6000]\ttraining's auc: 0.972151\tvalid_1's auc: 0.92223\n",
            "[7000]\ttraining's auc: 0.974073\tvalid_1's auc: 0.921969\n",
            "[8000]\ttraining's auc: 0.975868\tvalid_1's auc: 0.921434\n",
            "Early stopping, best iteration is:\n",
            "[5281]\ttraining's auc: 0.970717\tvalid_1's auc: 0.922419\n",
            "Training until validation scores don't improve for 3000 rounds.\n",
            "[1000]\ttraining's auc: 0.949538\tvalid_1's auc: 0.908825\n",
            "[2000]\ttraining's auc: 0.960383\tvalid_1's auc: 0.918588\n",
            "[3000]\ttraining's auc: 0.964896\tvalid_1's auc: 0.921365\n",
            "[4000]\ttraining's auc: 0.967735\tvalid_1's auc: 0.922252\n",
            "[5000]\ttraining's auc: 0.969992\tvalid_1's auc: 0.922466\n",
            "[6000]\ttraining's auc: 0.972035\tvalid_1's auc: 0.922446\n",
            "[7000]\ttraining's auc: 0.973967\tvalid_1's auc: 0.92225\n",
            "[8000]\ttraining's auc: 0.975822\tvalid_1's auc: 0.922104\n",
            "Early stopping, best iteration is:\n",
            "[5182]\ttraining's auc: 0.970379\tvalid_1's auc: 0.922534\n",
            "Training until validation scores don't improve for 3000 rounds.\n",
            "[1000]\ttraining's auc: 0.949228\tvalid_1's auc: 0.909545\n",
            "[2000]\ttraining's auc: 0.959961\tvalid_1's auc: 0.918817\n",
            "[3000]\ttraining's auc: 0.964553\tvalid_1's auc: 0.921319\n",
            "[4000]\ttraining's auc: 0.967414\tvalid_1's auc: 0.922147\n",
            "[5000]\ttraining's auc: 0.969699\tvalid_1's auc: 0.922489\n",
            "[6000]\ttraining's auc: 0.971759\tvalid_1's auc: 0.922447\n",
            "[7000]\ttraining's auc: 0.973716\tvalid_1's auc: 0.922183\n",
            "[8000]\ttraining's auc: 0.975545\tvalid_1's auc: 0.921959\n",
            "Early stopping, best iteration is:\n",
            "[5438]\ttraining's auc: 0.970631\tvalid_1's auc: 0.922562\n",
            "Training until validation scores don't improve for 3000 rounds.\n",
            "[1000]\ttraining's auc: 0.949452\tvalid_1's auc: 0.909186\n",
            "[2000]\ttraining's auc: 0.960415\tvalid_1's auc: 0.918959\n",
            "[3000]\ttraining's auc: 0.964869\tvalid_1's auc: 0.921268\n",
            "[4000]\ttraining's auc: 0.967733\tvalid_1's auc: 0.9222\n",
            "[5000]\ttraining's auc: 0.969996\tvalid_1's auc: 0.922403\n",
            "[6000]\ttraining's auc: 0.972057\tvalid_1's auc: 0.922429\n",
            "[7000]\ttraining's auc: 0.973994\tvalid_1's auc: 0.922406\n",
            "[8000]\ttraining's auc: 0.975863\tvalid_1's auc: 0.92224\n",
            "[9000]\ttraining's auc: 0.977582\tvalid_1's auc: 0.922072\n",
            "Early stopping, best iteration is:\n",
            "[6696]\ttraining's auc: 0.973433\tvalid_1's auc: 0.922594\n",
            "Training until validation scores don't improve for 3000 rounds.\n",
            "[1000]\ttraining's auc: 0.94965\tvalid_1's auc: 0.909144\n",
            "[2000]\ttraining's auc: 0.960444\tvalid_1's auc: 0.918532\n",
            "[3000]\ttraining's auc: 0.964933\tvalid_1's auc: 0.920921\n",
            "[4000]\ttraining's auc: 0.967767\tvalid_1's auc: 0.921901\n",
            "[5000]\ttraining's auc: 0.970044\tvalid_1's auc: 0.921945\n",
            "[6000]\ttraining's auc: 0.972091\tvalid_1's auc: 0.921851\n",
            "[7000]\ttraining's auc: 0.974016\tvalid_1's auc: 0.92158\n",
            "Early stopping, best iteration is:\n",
            "[4799]\ttraining's auc: 0.969609\tvalid_1's auc: 0.922055\n"
          ],
          "name": "stdout"
        }
      ]
    },
    {
      "cell_type": "code",
      "metadata": {
        "id": "f69ygeHDKg9h"
      },
      "source": [
        "predictions['target'] = np.mean(predictions[[col for col in predictions.columns if col not in ['ID_code', 'target']]].values, axis=1)\n",
        "\n",
        "sub = pd.DataFrame()\n",
        "sub['ID_code']=real_test['ID_code']\n",
        "sub['target']=predictions['target']\n",
        "submission = pd.read_csv( 'sample_submission.csv')\n",
        "new_submission = pd.concat([submission.drop(sub.index,axis = 0),sub],axis=0).sort_index()\n",
        "new_submission.to_csv('submission_6.csv', index=False)"
      ],
      "execution_count": 22,
      "outputs": []
    }
  ]
}