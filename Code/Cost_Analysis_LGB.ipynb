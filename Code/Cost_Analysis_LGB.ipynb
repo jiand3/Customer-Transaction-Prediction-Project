{
  "nbformat": 4,
  "nbformat_minor": 0,
  "metadata": {
    "colab": {
      "name": "Cost_Analysis_SantanderTransactionPrediction_0409.ipynb",
      "provenance": [],
      "collapsed_sections": [],
      "machine_shape": "hm"
    },
    "kernelspec": {
      "display_name": "Python 3",
      "name": "python3"
    },
    "language_info": {
      "name": "python"
    }
  },
  "cells": [
    {
      "cell_type": "code",
      "metadata": {
        "id": "MtNqYZOSuZRe",
        "colab": {
          "base_uri": "https://localhost:8080/"
        },
        "outputId": "8d9548ec-93eb-4a18-b13c-493bc1b5561e"
      },
      "source": [
        "from google.colab import drive\n",
        "drive.mount('/content/gdrive')"
      ],
      "execution_count": 1,
      "outputs": [
        {
          "output_type": "stream",
          "text": [
            "Mounted at /content/gdrive\n"
          ],
          "name": "stdout"
        }
      ]
    },
    {
      "cell_type": "markdown",
      "metadata": {
        "id": "j4mBmngCTodY"
      },
      "source": [
        "METHOD 2"
      ]
    },
    {
      "cell_type": "code",
      "metadata": {
        "id": "oH5HsMgL8L8i"
      },
      "source": [
        "import pandas as pd\n",
        "import numpy as np\n",
        "import warnings\n",
        "warnings.filterwarnings(\"ignore\")\n",
        "from sklearn.metrics import roc_auc_score\n",
        "import lightgbm as lgb\n",
        "from sklearn.model_selection import GridSearchCV,train_test_split\n",
        "from sklearn.model_selection import KFold\n",
        "from sklearn.metrics import roc_curve,auc,precision_recall_curve\n",
        "import matplotlib.pyplot as plt\n",
        "np.random.seed(42)"
      ],
      "execution_count": 37,
      "outputs": []
    },
    {
      "cell_type": "code",
      "metadata": {
        "colab": {
          "base_uri": "https://localhost:8080/"
        },
        "id": "F249wX8M8fgQ",
        "outputId": "d0622f9d-4c96-458b-9827-ad9266aa3d42"
      },
      "source": [
        "PATH = '/content/gdrive/MyDrive/Colab/datasets'\n",
        "\n",
        "df_test = pd.read_csv(PATH + '/test_simulated.csv')\n",
        "df_test.drop(['ID_code'], axis=1, inplace=True)\n",
        "df_test = df_test.values\n",
        "\n",
        "unique_samples = []\n",
        "unique_count = np.zeros_like(df_test)\n",
        "for feature in range(df_test.shape[1]):\n",
        "    _, index_, count_ = np.unique(df_test[:, feature], return_counts=True, return_index=True)\n",
        "    unique_count[index_[count_ == 1], feature] += 1\n",
        "\n",
        "# Samples which have unique values are real the others are fake\n",
        "real_samples_indexes = np.argwhere(np.sum(unique_count, axis=1) > 0)[:, 0]\n",
        "synthetic_samples_indexes = np.argwhere(np.sum(unique_count, axis=1) == 0)[:, 0]\n",
        "\n",
        "print('Found',len(real_samples_indexes),'real test')\n",
        "print('Found',len(synthetic_samples_indexes),'fake test')\n",
        "\n",
        "\n",
        "d = {}\n",
        "for i in range(200): d['var_'+str(i)] = 'float32'\n",
        "d['target'] = 'uint8'\n",
        "d['ID_code'] = 'object'\n",
        "\n",
        "# simple variance transform\n",
        "train_2 = pd.read_csv(PATH + '/train_simulated.csv')\n",
        "test_2 = pd.read_csv(PATH + '/test_simulated.csv')\n",
        "\n",
        "ids = np.arange(test_2.shape[0])\n",
        "real_ids = list(set(ids) - set(synthetic_samples_indexes))\n",
        "real_test = test_2.iloc[real_ids]\n",
        "fake_test = test_2.iloc[synthetic_samples_indexes]\n",
        "real_test_id = real_test.ID_code\n",
        "features = [c for c in train_2.columns if c not in ['target', 'ID_code']]\n",
        "df = pd.concat([train_2,real_test], axis = 0)\n",
        "\n",
        "# FE\n",
        "for feat in features:\n",
        "    df[feat+'_var'] = df.groupby([feat])[feat].transform('var')\n",
        "    df[feat+'plus_'] = df[feat] + df[feat+'_var']\n",
        "    #df[feat+\"minus\"] = df[feat] - df[feat+'_var']\n",
        "    \n",
        "drop_features = [c for c in df.columns if '_var' in c]\n",
        "df.drop(drop_features, axis=1, inplace=True)"
      ],
      "execution_count": 15,
      "outputs": [
        {
          "output_type": "stream",
          "text": [
            "Found 40000 real test\n",
            "Found 0 fake test\n"
          ],
          "name": "stdout"
        }
      ]
    },
    {
      "cell_type": "code",
      "metadata": {
        "colab": {
          "base_uri": "https://localhost:8080/"
        },
        "id": "FFqF8lFwPk1Q",
        "outputId": "a07e1746-5f51-40e4-9bbe-1b105b429064"
      },
      "source": [
        "train = df.iloc[:train_2.shape[0]]\n",
        "real_test = df.iloc[train_2.shape[0]:]\n",
        "\n",
        "features = [c for c in train.columns if c not in ['ID_code', 'target']]\n",
        "target = train['target'] \n",
        "\n",
        "print(train.shape)\n",
        "print(real_test.shape)\n",
        "print(len(features))"
      ],
      "execution_count": 17,
      "outputs": [
        {
          "output_type": "stream",
          "text": [
            "(160000, 402)\n",
            "(40000, 402)\n",
            "400\n"
          ],
          "name": "stdout"
        }
      ]
    },
    {
      "cell_type": "code",
      "metadata": {
        "id": "Cf2phsVATmaT"
      },
      "source": [
        "# shuffle func\n",
        "def disarrange(a, axis=-1):\n",
        "    \"\"\"\n",
        "    Shuffle `a` in-place along the given axis.\n",
        "    Apply numpy.random.shuffle to the given axis of `a`.\n",
        "    Each one-dimensional slice is shuffled independently.\n",
        "    \"\"\"\n",
        "    b = a.swapaxes(axis, -1)\n",
        "    # Shuffle `b` in-place along the last axis.  `b` is a view of `a`,\n",
        "    # so `a` is shuffled in place, too.\n",
        "    shp = b.shape[:-1]\n",
        "    for ndx in np.ndindex(shp):\n",
        "        np.random.shuffle(b[ndx])\n",
        "    return\n",
        "\n",
        "def augment_fast2(x,y,t=2):\n",
        "    xs,xn = [],[]\n",
        "    for i in range(t):\n",
        "        mask = y>0\n",
        "        x1 = x[mask].copy()\n",
        "        disarrange(x1,axis=0)\n",
        "        xs.append(x1)\n",
        "\n",
        "    for i in range(t//2):\n",
        "        mask = y==0\n",
        "        x1 = x[mask].copy()\n",
        "        disarrange(x1,axis=0)\n",
        "        xn.append(x1)\n",
        "\n",
        "    xs = np.vstack(xs)\n",
        "    xn = np.vstack(xn)\n",
        "    ys = np.ones(xs.shape[0])\n",
        "    yn = np.zeros(xn.shape[0])\n",
        "    x = np.vstack([x,xs,xn])\n",
        "    y = np.concatenate([y,ys,yn])\n",
        "    return x,y"
      ],
      "execution_count": 18,
      "outputs": []
    },
    {
      "cell_type": "code",
      "metadata": {
        "id": "3wqx5JjyTvVx"
      },
      "source": [
        "x = train[features]\n",
        "y = train['target']\n",
        "from sklearn.model_selection import train_test_split\n",
        "x_train, x_test, y_train, y_test = train_test_split(x, y, test_size=0.2)"
      ],
      "execution_count": 19,
      "outputs": []
    },
    {
      "cell_type": "code",
      "metadata": {
        "colab": {
          "base_uri": "https://localhost:8080/"
        },
        "id": "Byide_B9azIi",
        "outputId": "ec979785-cfa7-4d07-df8d-a302a3638a31"
      },
      "source": [
        "lgb_params = {\n",
        "    \"objective\" : \"binary\",\n",
        "    \"metric\" : \"auc\",\n",
        "    \"boosting\": 'gbdt',\n",
        "    \"max_depth\" : -1,\n",
        "    \"num_leaves\" : 13,\n",
        "    \"learning_rate\" : 0.01,\n",
        "    \"bagging_freq\": 5,\n",
        "    \"bagging_fraction\" : 0.4,\n",
        "    \"feature_fraction\" : 0.05,\n",
        "    \"min_data_in_leaf\": 80,\n",
        "    \"min_sum_heassian_in_leaf\": 10,\n",
        "    \"tree_learner\": \"serial\",\n",
        "    \"boost_from_average\": \"false\",\n",
        "    #\"lambda_l1\" : 5,\n",
        "    #\"lambda_l2\" : 5,\n",
        "    \"bagging_seed\" : 42,\n",
        "    \"verbosity\" : 1,\n",
        "    \"seed\": 42\n",
        "}\n",
        "\n",
        "X_t, y_t = augment_fast2(x_train.values, y_train.values)\n",
        "X_t = pd.DataFrame(X_t)\n",
        "X_t = X_t.add_prefix('var_')\n",
        "    \n",
        "trn_data = lgb.Dataset(X_t, label=y_t)\n",
        "val_data = lgb.Dataset(x_test, label=y_test)\n",
        "evals_result = {}\n",
        "lgb_clf = lgb.train(lgb_params,\n",
        "                        trn_data,\n",
        "                        100000,\n",
        "                        valid_sets = [trn_data, val_data],\n",
        "                        early_stopping_rounds=3000,\n",
        "                        verbose_eval = 1000,\n",
        "                        evals_result=evals_result\n",
        "                       )"
      ],
      "execution_count": 20,
      "outputs": [
        {
          "output_type": "stream",
          "text": [
            "Training until validation scores don't improve for 3000 rounds.\n",
            "[1000]\ttraining's auc: 0.924526\tvalid_1's auc: 0.877858\n",
            "[2000]\ttraining's auc: 0.938207\tvalid_1's auc: 0.89056\n",
            "[3000]\ttraining's auc: 0.947508\tvalid_1's auc: 0.899928\n",
            "[4000]\ttraining's auc: 0.953301\tvalid_1's auc: 0.9053\n",
            "[5000]\ttraining's auc: 0.957293\tvalid_1's auc: 0.908748\n",
            "[6000]\ttraining's auc: 0.960208\tvalid_1's auc: 0.910716\n",
            "[7000]\ttraining's auc: 0.962576\tvalid_1's auc: 0.911998\n",
            "[8000]\ttraining's auc: 0.964614\tvalid_1's auc: 0.912815\n",
            "[9000]\ttraining's auc: 0.966438\tvalid_1's auc: 0.913401\n",
            "[10000]\ttraining's auc: 0.968187\tvalid_1's auc: 0.913769\n",
            "[11000]\ttraining's auc: 0.969847\tvalid_1's auc: 0.914068\n",
            "[12000]\ttraining's auc: 0.971439\tvalid_1's auc: 0.914145\n",
            "[13000]\ttraining's auc: 0.97293\tvalid_1's auc: 0.914268\n",
            "[14000]\ttraining's auc: 0.974393\tvalid_1's auc: 0.914218\n",
            "[15000]\ttraining's auc: 0.975813\tvalid_1's auc: 0.914139\n",
            "[16000]\ttraining's auc: 0.97718\tvalid_1's auc: 0.914093\n",
            "Early stopping, best iteration is:\n",
            "[13043]\ttraining's auc: 0.972995\tvalid_1's auc: 0.91428\n"
          ],
          "name": "stdout"
        }
      ]
    },
    {
      "cell_type": "code",
      "metadata": {
        "id": "A_vU_4MDDr86"
      },
      "source": [
        "def Evaluation(model,test_X,test_Y,fp_cost,fn_cost):\n",
        "    prob=model.predict(test_X)\n",
        "    fpr,tpr,threshold=roc_curve(test_Y,prob)\n",
        "    roc_auc=auc(fpr,tpr)\n",
        "    results=pd.DataFrame({'Actual_Value':list(test_Y),'Probability':list(prob)}).sort_values('Probability',ascending=False)\n",
        "    results['num']=np.arange(len(test_Y))+1\n",
        "    results['pct']=(np.arange(len(test_Y))+1)/len(test_Y)\n",
        "    results['threshold']= results['num']/len(test_Y)\n",
        "    results['TP'] = results['Actual_Value'].cumsum()\n",
        "    results['FP'] = results['num']-results['TP']\n",
        "    results['TN']= (len(test_Y) - results['num'])-(sum(results['Actual_Value'])-results['TP'])\n",
        "    results['FN']= sum(results['Actual_Value'])-results['TP']\n",
        "    results['tpr']= results['TP']/sum(results['Actual_Value'])\n",
        "    results['fpr']= results['FP']/(len(test_Y)-sum(results['Actual_Value']))\n",
        "    results['precision']=results['TP']/results['num']\n",
        "    results['recall']=results['TP']/(results['TP']+results['FN'])\n",
        "    results['f']=2*results['precision']*results['recall']/(results['recall']+results['precision'])\n",
        "    results['lift']=results['precision']/(sum(results['Actual_Value'])/len(test_Y))\n",
        "    results['accuracy']=(results['TP']+results['TN'])/len(test_Y)\n",
        "    results['fp_cost']=results['FP']*fp_cost\n",
        "    results['fn_cost']=results['FN']*fn_cost\n",
        "    results['total_cost']=(results['fp_cost']+results['fn_cost'])/len(test_Y)\n",
        "    df=results[results['total_cost']==results['total_cost'].min()][['threshold','accuracy','precision','recall','f','total_cost']]\n",
        "    print(df.iloc[0,:])\n",
        "    #Plot ROC Curve\n",
        "    plt.figure(figsize=[10,5])\n",
        "    plt.plot(results['threshold'],results['total_cost'],'g--')\n",
        "    plt.title('Cost Curve',fontsize=30)\n",
        "    plt.show() \n",
        "    df_2 = results[results['total_cost']==results['total_cost'].min()]\n",
        "    return df_2.iloc[0,:]"
      ],
      "execution_count": 53,
      "outputs": []
    },
    {
      "cell_type": "code",
      "metadata": {
        "id": "c1kSyz5dt-ku"
      },
      "source": [
        "df_test = pd.read_csv(PATH + '/test_simulated.csv')"
      ],
      "execution_count": 41,
      "outputs": []
    },
    {
      "cell_type": "code",
      "metadata": {
        "id": "qy4YiWsXxRD0"
      },
      "source": [
        "\"\"\"\n",
        "According to a survey conducted by Parvathy P (2017), it costs a bank around $80 to acquire a credict card customer who returns about $120 in profit.  \n",
        "We will use 80 as false positive cost (Cost of mis-classifying a customer that will never make a transaction as a potential customer)\n",
        "We will use 120 as false negative cost (Cost of mis-classifying a potential customer)\n",
        "\"\"\""
      ],
      "execution_count": null,
      "outputs": []
    },
    {
      "cell_type": "code",
      "metadata": {
        "colab": {
          "base_uri": "https://localhost:8080/",
          "height": 817
        },
        "id": "7a4sj6vJuvVe",
        "outputId": "77d98a56-38c6-4f50-82b7-3b528c801799"
      },
      "source": [
        "test_y = df_test['target']\n",
        "fp_cost = 80\n",
        "fn_cost = 120\n",
        "Evaluation(lgb_clf,test_3,test_y.values,fp_cost,fn_cost)"
      ],
      "execution_count": 54,
      "outputs": [
        {
          "output_type": "stream",
          "text": [
            "threshold     0.075950\n",
            "accuracy      0.929625\n",
            "precision     0.710994\n",
            "recall        0.527215\n",
            "f             0.605466\n",
            "total_cost    7.567000\n",
            "Name: 4838, dtype: float64\n"
          ],
          "name": "stdout"
        },
        {
          "output_type": "display_data",
          "data": {
            "image/png": "[encoded data removed]",
            "text/plain": [
              "<Figure size 720x360 with 1 Axes>"
            ]
          },
          "metadata": {
            "tags": [],
            "needs_background": "light"
          }
        },
        {
          "output_type": "execute_result",
          "data": {
            "text/plain": [
              "Actual_Value         1.000000\n",
              "Probability          0.465981\n",
              "num               3038.000000\n",
              "pct                  0.075950\n",
              "threshold            0.075950\n",
              "TP                2160.000000\n",
              "FP                 878.000000\n",
              "TN               35025.000000\n",
              "FN                1937.000000\n",
              "tpr                  0.527215\n",
              "fpr                  0.024455\n",
              "precision            0.710994\n",
              "recall               0.527215\n",
              "f                    0.605466\n",
              "lift                 6.941607\n",
              "accuracy             0.929625\n",
              "fp_cost          70240.000000\n",
              "fn_cost         232440.000000\n",
              "total_cost           7.567000\n",
              "Name: 4838, dtype: float64"
            ]
          },
          "metadata": {
            "tags": []
          },
          "execution_count": 54
        }
      ]
    },
    {
      "cell_type": "code",
      "metadata": {
        "colab": {
          "base_uri": "https://localhost:8080/",
          "height": 817
        },
        "id": "rPRMa7bVwO_X",
        "outputId": "dec59a7a-4ca4-4e17-bb6c-a9390b041d45"
      },
      "source": [
        "def Evaluation(model,test_X,test_Y,fp_cost,fn_cost):\n",
        "    prob=model.predict(test_X)\n",
        "    fpr,tpr,threshold=roc_curve(test_Y,prob)\n",
        "    roc_auc=auc(fpr,tpr)\n",
        "    results=pd.DataFrame({'Actual_Value':list(test_Y),'Probability':list(prob)}).sort_values('Probability',ascending=False)\n",
        "    results['num']=np.arange(len(test_Y))+1\n",
        "    results['pct']=(np.arange(len(test_Y))+1)/len(test_Y)\n",
        "    results['threshold']= results['num']/len(test_Y)\n",
        "    results['TP'] = results['Actual_Value'].cumsum()\n",
        "    results['FP'] = results['num']-results['TP']\n",
        "    results['TN']= (len(test_Y) - results['num'])-(sum(results['Actual_Value'])-results['TP'])\n",
        "    results['FN']= sum(results['Actual_Value'])-results['TP']\n",
        "    results['tpr']= results['TP']/sum(results['Actual_Value'])\n",
        "    results['fpr']= results['FP']/(len(test_Y)-sum(results['Actual_Value']))\n",
        "    results['precision']=results['TP']/results['num']\n",
        "    results['recall']=results['TP']/(results['TP']+results['FN'])\n",
        "    results['f']=2*results['precision']*results['recall']/(results['recall']+results['precision'])\n",
        "    results['lift']=results['precision']/(sum(results['Actual_Value'])/len(test_Y))\n",
        "    results['accuracy']=(results['TP']+results['TN'])/len(test_Y)\n",
        "    results['fp_cost']=results['FP']*fp_cost\n",
        "    results['fn_cost']=results['FN']*fn_cost\n",
        "    results['total_cost']=(results['fp_cost']+results['fn_cost'])/len(test_Y)\n",
        "    df=results[results['total_cost']==results['total_cost'].min()][['threshold','accuracy','precision','recall','f','total_cost']]\n",
        "    print(df.iloc[0,:])\n",
        "    #Plot ROC Curve\n",
        "    plt.figure(figsize=[19,5])\n",
        "    plt.subplot(1,2,1)\n",
        "    plt.plot(results['fpr'],results['tpr'],'r--',label=['ROC(AUC = %0.2f)'%roc_auc])\n",
        "    plt.legend()\n",
        "    plt.title('ROC Curve',fontsize=30)\n",
        "    plt.subplot(1,2,2)\n",
        "    plt.plot(results['pct'],results['lift'],'b--')\n",
        "    plt.title('Lift Curve',fontsize=30)\n",
        "    plt.show() \n",
        "    df_2 = results[results['total_cost']==results['total_cost'].min()]\n",
        "    return df_2.iloc[0,:]\n",
        "test_y = df_test['target']\n",
        "fp_cost = 80\n",
        "fn_cost = 120\n",
        "Evaluation(lgb_clf,test_3,test_y.values,fp_cost,fn_cost)"
      ],
      "execution_count": 59,
      "outputs": [
        {
          "output_type": "stream",
          "text": [
            "threshold     0.075950\n",
            "accuracy      0.929625\n",
            "precision     0.710994\n",
            "recall        0.527215\n",
            "f             0.605466\n",
            "total_cost    7.567000\n",
            "Name: 4838, dtype: float64\n"
          ],
          "name": "stdout"
        },
        {
          "output_type": "display_data",
          "data": {
            "image/png": "[encoded data removed]",
            "text/plain": [
              "<Figure size 1368x360 with 2 Axes>"
            ]
          },
          "metadata": {
            "tags": [],
            "needs_background": "light"
          }
        },
        {
          "output_type": "execute_result",
          "data": {
            "text/plain": [
              "Actual_Value         1.000000\n",
              "Probability          0.465981\n",
              "num               3038.000000\n",
              "pct                  0.075950\n",
              "threshold            0.075950\n",
              "TP                2160.000000\n",
              "FP                 878.000000\n",
              "TN               35025.000000\n",
              "FN                1937.000000\n",
              "tpr                  0.527215\n",
              "fpr                  0.024455\n",
              "precision            0.710994\n",
              "recall               0.527215\n",
              "f                    0.605466\n",
              "lift                 6.941607\n",
              "accuracy             0.929625\n",
              "fp_cost          70240.000000\n",
              "fn_cost         232440.000000\n",
              "total_cost           7.567000\n",
              "Name: 4838, dtype: float64"
            ]
          },
          "metadata": {
            "tags": []
          },
          "execution_count": 59
        }
      ]
    }
  ]
}